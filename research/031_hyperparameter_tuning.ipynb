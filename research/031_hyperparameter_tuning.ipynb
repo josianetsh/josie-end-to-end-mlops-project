{
 "cells": [
  {
   "cell_type": "code",
   "execution_count": 1,
   "metadata": {},
   "outputs": [],
   "source": [
    "import os"
   ]
  },
  {
   "cell_type": "code",
   "execution_count": 2,
   "metadata": {},
   "outputs": [
    {
     "data": {
      "text/plain": [
       "'/Users/josianetsh/Downloads/josie-end-to-end-mlops-project/research'"
      ]
     },
     "execution_count": 2,
     "metadata": {},
     "output_type": "execute_result"
    }
   ],
   "source": [
    "%pwd"
   ]
  },
  {
   "cell_type": "code",
   "execution_count": 3,
   "metadata": {},
   "outputs": [],
   "source": [
    "os.chdir(\"../\")"
   ]
  },
  {
   "cell_type": "code",
   "execution_count": 4,
   "metadata": {},
   "outputs": [
    {
     "data": {
      "text/plain": [
       "'/Users/josianetsh/Downloads/josie-end-to-end-mlops-project'"
      ]
     },
     "execution_count": 4,
     "metadata": {},
     "output_type": "execute_result"
    }
   ],
   "source": [
    "%pwd"
   ]
  },
  {
   "cell_type": "code",
   "execution_count": 5,
   "metadata": {},
   "outputs": [],
   "source": [
    "from dataclasses import dataclass\n",
    "from pathlib import Path\n",
    "\n",
    "\n",
    "@dataclass(frozen=True)\n",
    "class HyperparameterConfig:\n",
    "    root_dir: Path\n",
    "    data_path: Path"
   ]
  },
  {
   "cell_type": "code",
   "execution_count": 6,
   "metadata": {},
   "outputs": [],
   "source": [
    "from mlProject.constants import *\n",
    "from mlProject.utils.common import read_yaml, create_directories"
   ]
  },
  {
   "cell_type": "code",
   "execution_count": 7,
   "metadata": {},
   "outputs": [],
   "source": [
    "class ConfigurationManager:\n",
    "    def __init__(\n",
    "        self,\n",
    "        config_filepath = CONFIG_FILE_PATH,\n",
    "        params_filepath = PARAMS_FILE_PATH,\n",
    "        schema_filepath = SCHEMA_FILE_PATH):\n",
    "\n",
    "        self.config = read_yaml(config_filepath)\n",
    "        self.params = read_yaml(params_filepath)\n",
    "        self.schema = read_yaml(schema_filepath)\n",
    "\n",
    "        create_directories([self.config.artifacts_root])\n",
    "\n",
    "\n",
    "    \n",
    "    def get_hyperparameter_config(self) -> HyperparameterConfig:\n",
    "        config = self.config.hyperparameter\n",
    "\n",
    "        create_directories([config.root_dir])\n",
    "\n",
    "        hyperparameter_config = HyperparameterConfig(\n",
    "            root_dir=config.root_dir,\n",
    "            data_path=config.data_path\n",
    "        )\n",
    "\n",
    "        return hyperparameter_config"
   ]
  },
  {
   "cell_type": "code",
   "execution_count": 8,
   "metadata": {},
   "outputs": [],
   "source": [
    "import numpy as np\n",
    "import ray\n",
    "from ray import tune\n",
    "from ray.train import report\n",
    "from ray.tune.schedulers import ASHAScheduler\n",
    "from sklearn.model_selection import train_test_split, cross_val_score\n",
    "from sklearn.linear_model import ElasticNet\n",
    "from sklearn.datasets import load_wine\n",
    "from sklearn.preprocessing import StandardScaler"
   ]
  },
  {
   "cell_type": "code",
   "execution_count": 9,
   "metadata": {},
   "outputs": [],
   "source": [
    "import pandas as pd\n",
    "class HyperparameterTuning:\n",
    "    def __init__(self, config: HyperparameterConfig):\n",
    "        self.config = config\n",
    "\n",
    "\n",
    "    def hypertuning(self): \n",
    "        data = pd.read_csv(self.config.data_path)\n",
    "        X = data.drop(columns=['quality']) \n",
    "        y = data['quality']\n",
    "        scaler = StandardScaler()\n",
    "        X = scaler.fit_transform(X)\n",
    "        X_train, X_test, y_train, y_test = train_test_split(X, y, test_size=0.2, random_state=42)\n",
    "        return X_train, y_train\n",
    "\n",
    "    def objective(self, config):\n",
    "        X_train, y_train = self.hypertuning()\n",
    "        \n",
    "        model = ElasticNet(alpha=config[\"alpha\"], l1_ratio=config[\"l1_ratio\"], random_state=42)\n",
    "        score = cross_val_score(model, X_train, y_train, cv=5, scoring=\"r2\").mean()\n",
    "        report({\"r2_score\": score})\n",
    "\n",
    "    def run_tuning(self):\n",
    "        search_space = {\n",
    "            \"alpha\": tune.loguniform(1e-3, 1e1),  # Search between 0.001 and 10\n",
    "            \"l1_ratio\": tune.uniform(0, 1)        # Search between 0 and 1\n",
    "        }\n",
    "\n",
    "        ray.init(ignore_reinit_error=True)  # Initialize Ray\n",
    "        scheduler=ASHAScheduler()\n",
    "        analysis = tune.run(\n",
    "            self.objective,  # Function to optimize\n",
    "            config=search_space,\n",
    "            metric=\"r2_score\",\n",
    "            mode=\"max\",  # Maximize R² score\n",
    "            num_samples=50,  # Number of trials\n",
    "            scheduler=scheduler\n",
    "        )\n",
    "\n",
    "        best_params = analysis.best_config\n",
    "        print(f\"Best Hyperparameters Found: {best_params}\")\n",
    "\n",
    "        return best_params  # Return the best parameters"
   ]
  },
  {
   "cell_type": "code",
   "execution_count": null,
   "metadata": {},
   "outputs": [],
   "source": [
    "try:\n",
    "    config = ConfigurationManager()\n",
    "    hyperparameter_config = config.get_hyperparameter_config()\n",
    "    hyperparameter = HyperparameterTuning(config=hyperparameter_config)\n",
    "    best_params = hyperparameter.run_tuning()\n",
    "    print(f\"Best Found Parameters: {best_params}\")\n",
    "except Exception as e:\n",
    "    raise e"
   ]
  },
  {
   "cell_type": "code",
   "execution_count": null,
   "metadata": {},
   "outputs": [],
   "source": [
    "# 🚀 Step 1: Load and Preprocess Dataset\n",
    "data = load_wine()\n",
    "X = data.data  # Features\n",
    "y = data.target  # Target variable\n",
    "\n",
    "scaler = StandardScaler()\n",
    "X = scaler.fit_transform(X)  # Standardize features\n",
    "\n",
    "# Split data into train and test sets\n",
    "X_train, X_test, y_train, y_test = train_test_split(X, y, test_size=0.2, random_state=42)"
   ]
  },
  {
   "cell_type": "code",
   "execution_count": null,
   "metadata": {},
   "outputs": [],
   "source": [
    "def objective(config):\n",
    "    \"\"\"Train ElasticNet model with given hyperparameters and evaluate.\"\"\"\n",
    "    model = ElasticNet(alpha=config[\"alpha\"], l1_ratio=config[\"l1_ratio\"], random_state=42)\n",
    "    \n",
    "    # Perform cross-validation to evaluate model performance\n",
    "    score = cross_val_score(model, X_train, y_train, cv=5, scoring=\"r2\").mean()\n",
    "    \n",
    "    # Report the score to Ray Tune\n",
    "    report({\"r2_score\": score})"
   ]
  },
  {
   "cell_type": "code",
   "execution_count": null,
   "metadata": {},
   "outputs": [],
   "source": [
    "# 🚀 Step 3: Define Search Space for Hyperparameters\n",
    "search_space = {\n",
    "    \"alpha\": tune.loguniform(1e-3, 1e1),  # Search between 0.001 and 10\n",
    "    \"l1_ratio\": tune.uniform(0, 1)        # Search between 0 and 1\n",
    "}"
   ]
  },
  {
   "cell_type": "code",
   "execution_count": null,
   "metadata": {},
   "outputs": [
    {
     "name": "stderr",
     "output_type": "stream",
     "text": [
      "2025-02-02 13:15:44,556\tINFO worker.py:1476 -- Calling ray.init() again after it has already been called.\n",
      "2025-02-02 13:15:44,557\tINFO tune.py:645 -- [output] This uses the legacy output and progress reporter, as Jupyter notebooks are not supported by the new engine, yet. For more information, please see https://github.com/ray-project/ray/issues/36949\n"
     ]
    },
    {
     "data": {
      "text/html": [
       "<div class=\"tuneStatus\">\n",
       "  <div style=\"display: flex;flex-direction: row\">\n",
       "    <div style=\"display: flex;flex-direction: column;\">\n",
       "      <h3>Tune Status</h3>\n",
       "      <table>\n",
       "<tbody>\n",
       "<tr><td>Current time:</td><td>2025-02-02 13:15:47</td></tr>\n",
       "<tr><td>Running for: </td><td>00:00:03.00        </td></tr>\n",
       "<tr><td>Memory:      </td><td>14.3/18.0 GiB      </td></tr>\n",
       "</tbody>\n",
       "</table>\n",
       "    </div>\n",
       "    <div class=\"vDivider\"></div>\n",
       "    <div class=\"systemInfo\">\n",
       "      <h3>System Info</h3>\n",
       "      Using AsyncHyperBand: num_stopped=33<br>Bracket: Iter 64.000: None | Iter 16.000: None | Iter 4.000: None | Iter 1.000: 0.8703818121848911<br>Logical resource usage: 1.0/11 CPUs, 0/0 GPUs\n",
       "    </div>\n",
       "    \n",
       "  </div>\n",
       "  <div class=\"hDivider\"></div>\n",
       "  <div class=\"trialStatus\">\n",
       "    <h3>Trial Status</h3>\n",
       "    <table>\n",
       "<thead>\n",
       "<tr><th>Trial name           </th><th>status    </th><th>loc            </th><th style=\"text-align: right;\">     alpha</th><th style=\"text-align: right;\">  l1_ratio</th><th style=\"text-align: right;\">  iter</th><th style=\"text-align: right;\">  total time (s)</th><th style=\"text-align: right;\">   r2_score</th></tr>\n",
       "</thead>\n",
       "<tbody>\n",
       "<tr><td>objective_b8050_00000</td><td>TERMINATED</td><td>127.0.0.1:71452</td><td style=\"text-align: right;\">0.0394204 </td><td style=\"text-align: right;\">0.333384  </td><td style=\"text-align: right;\">     1</td><td style=\"text-align: right;\">      0.00355911</td><td style=\"text-align: right;\"> 0.870223  </td></tr>\n",
       "<tr><td>objective_b8050_00001</td><td>TERMINATED</td><td>127.0.0.1:71449</td><td style=\"text-align: right;\">0.548407  </td><td style=\"text-align: right;\">0.00777416</td><td style=\"text-align: right;\">     1</td><td style=\"text-align: right;\">      0.00366807</td><td style=\"text-align: right;\"> 0.839826  </td></tr>\n",
       "<tr><td>objective_b8050_00002</td><td>TERMINATED</td><td>127.0.0.1:71450</td><td style=\"text-align: right;\">0.989669  </td><td style=\"text-align: right;\">0.194223  </td><td style=\"text-align: right;\">     1</td><td style=\"text-align: right;\">      0.00521278</td><td style=\"text-align: right;\"> 0.634392  </td></tr>\n",
       "<tr><td>objective_b8050_00003</td><td>TERMINATED</td><td>127.0.0.1:71451</td><td style=\"text-align: right;\">0.0036066 </td><td style=\"text-align: right;\">0.895322  </td><td style=\"text-align: right;\">     1</td><td style=\"text-align: right;\">      0.0128603 </td><td style=\"text-align: right;\"> 0.871651  </td></tr>\n",
       "<tr><td>objective_b8050_00004</td><td>TERMINATED</td><td>127.0.0.1:71452</td><td style=\"text-align: right;\">0.0862072 </td><td style=\"text-align: right;\">0.76955   </td><td style=\"text-align: right;\">     1</td><td style=\"text-align: right;\">      0.00373316</td><td style=\"text-align: right;\"> 0.840103  </td></tr>\n",
       "<tr><td>objective_b8050_00005</td><td>TERMINATED</td><td>127.0.0.1:71453</td><td style=\"text-align: right;\">0.0359554 </td><td style=\"text-align: right;\">0.933261  </td><td style=\"text-align: right;\">     1</td><td style=\"text-align: right;\">      0.00398993</td><td style=\"text-align: right;\"> 0.862316  </td></tr>\n",
       "<tr><td>objective_b8050_00006</td><td>TERMINATED</td><td>127.0.0.1:71454</td><td style=\"text-align: right;\">0.0259093 </td><td style=\"text-align: right;\">0.794674  </td><td style=\"text-align: right;\">     1</td><td style=\"text-align: right;\">      0.00353408</td><td style=\"text-align: right;\"> 0.8676    </td></tr>\n",
       "<tr><td>objective_b8050_00007</td><td>TERMINATED</td><td>127.0.0.1:71453</td><td style=\"text-align: right;\">0.00546309</td><td style=\"text-align: right;\">0.90232   </td><td style=\"text-align: right;\">     1</td><td style=\"text-align: right;\">      0.00349116</td><td style=\"text-align: right;\"> 0.871926  </td></tr>\n",
       "<tr><td>objective_b8050_00008</td><td>TERMINATED</td><td>127.0.0.1:71456</td><td style=\"text-align: right;\">0.0173314 </td><td style=\"text-align: right;\">0.956259  </td><td style=\"text-align: right;\">     1</td><td style=\"text-align: right;\">      0.00519896</td><td style=\"text-align: right;\"> 0.86867   </td></tr>\n",
       "<tr><td>objective_b8050_00009</td><td>TERMINATED</td><td>127.0.0.1:71457</td><td style=\"text-align: right;\">0.253955  </td><td style=\"text-align: right;\">0.639989  </td><td style=\"text-align: right;\">     1</td><td style=\"text-align: right;\">      0.00715017</td><td style=\"text-align: right;\"> 0.755848  </td></tr>\n",
       "<tr><td>objective_b8050_00010</td><td>TERMINATED</td><td>127.0.0.1:71458</td><td style=\"text-align: right;\">0.190568  </td><td style=\"text-align: right;\">0.164347  </td><td style=\"text-align: right;\">     1</td><td style=\"text-align: right;\">      0.00560522</td><td style=\"text-align: right;\"> 0.857363  </td></tr>\n",
       "<tr><td>objective_b8050_00011</td><td>TERMINATED</td><td>127.0.0.1:71452</td><td style=\"text-align: right;\">2.07562   </td><td style=\"text-align: right;\">0.770638  </td><td style=\"text-align: right;\">     1</td><td style=\"text-align: right;\">      0.00325894</td><td style=\"text-align: right;\">-0.0368783 </td></tr>\n",
       "<tr><td>objective_b8050_00012</td><td>TERMINATED</td><td>127.0.0.1:71450</td><td style=\"text-align: right;\">0.00177007</td><td style=\"text-align: right;\">0.909974  </td><td style=\"text-align: right;\">     1</td><td style=\"text-align: right;\">      0.00370121</td><td style=\"text-align: right;\"> 0.870923  </td></tr>\n",
       "<tr><td>objective_b8050_00013</td><td>TERMINATED</td><td>127.0.0.1:71456</td><td style=\"text-align: right;\">5.03363   </td><td style=\"text-align: right;\">0.235857  </td><td style=\"text-align: right;\">     1</td><td style=\"text-align: right;\">      0.00382829</td><td style=\"text-align: right;\">-0.0368783 </td></tr>\n",
       "<tr><td>objective_b8050_00014</td><td>TERMINATED</td><td>127.0.0.1:71456</td><td style=\"text-align: right;\">0.0102248 </td><td style=\"text-align: right;\">0.97492   </td><td style=\"text-align: right;\">     1</td><td style=\"text-align: right;\">      0.00334787</td><td style=\"text-align: right;\"> 0.870211  </td></tr>\n",
       "<tr><td>objective_b8050_00015</td><td>TERMINATED</td><td>127.0.0.1:71452</td><td style=\"text-align: right;\">4.97268   </td><td style=\"text-align: right;\">0.537814  </td><td style=\"text-align: right;\">     1</td><td style=\"text-align: right;\">      0.00496316</td><td style=\"text-align: right;\">-0.0368783 </td></tr>\n",
       "<tr><td>objective_b8050_00016</td><td>TERMINATED</td><td>127.0.0.1:71454</td><td style=\"text-align: right;\">5.71175   </td><td style=\"text-align: right;\">0.746141  </td><td style=\"text-align: right;\">     1</td><td style=\"text-align: right;\">      0.00440717</td><td style=\"text-align: right;\">-0.0368783 </td></tr>\n",
       "<tr><td>objective_b8050_00017</td><td>TERMINATED</td><td>127.0.0.1:71456</td><td style=\"text-align: right;\">0.394249  </td><td style=\"text-align: right;\">0.130403  </td><td style=\"text-align: right;\">     1</td><td style=\"text-align: right;\">      0.00403404</td><td style=\"text-align: right;\"> 0.827976  </td></tr>\n",
       "<tr><td>objective_b8050_00018</td><td>TERMINATED</td><td>127.0.0.1:71456</td><td style=\"text-align: right;\">0.13047   </td><td style=\"text-align: right;\">0.7014    </td><td style=\"text-align: right;\">     1</td><td style=\"text-align: right;\">      0.00493407</td><td style=\"text-align: right;\"> 0.822335  </td></tr>\n",
       "<tr><td>objective_b8050_00019</td><td>TERMINATED</td><td>127.0.0.1:71451</td><td style=\"text-align: right;\">0.00359758</td><td style=\"text-align: right;\">0.264704  </td><td style=\"text-align: right;\">     1</td><td style=\"text-align: right;\">      0.00847316</td><td style=\"text-align: right;\"> 0.871269  </td></tr>\n",
       "<tr><td>objective_b8050_00020</td><td>TERMINATED</td><td>127.0.0.1:71457</td><td style=\"text-align: right;\">1.70415   </td><td style=\"text-align: right;\">0.365913  </td><td style=\"text-align: right;\">     1</td><td style=\"text-align: right;\">      0.00461912</td><td style=\"text-align: right;\">-0.00644211</td></tr>\n",
       "<tr><td>objective_b8050_00021</td><td>TERMINATED</td><td>127.0.0.1:71450</td><td style=\"text-align: right;\">2.56554   </td><td style=\"text-align: right;\">0.0227767 </td><td style=\"text-align: right;\">     1</td><td style=\"text-align: right;\">      0.00331593</td><td style=\"text-align: right;\"> 0.655917  </td></tr>\n",
       "<tr><td>objective_b8050_00022</td><td>TERMINATED</td><td>127.0.0.1:71457</td><td style=\"text-align: right;\">0.0152828 </td><td style=\"text-align: right;\">0.332069  </td><td style=\"text-align: right;\">     1</td><td style=\"text-align: right;\">      0.0038259 </td><td style=\"text-align: right;\"> 0.873261  </td></tr>\n",
       "<tr><td>objective_b8050_00023</td><td>TERMINATED</td><td>127.0.0.1:71449</td><td style=\"text-align: right;\">0.318914  </td><td style=\"text-align: right;\">0.756261  </td><td style=\"text-align: right;\">     1</td><td style=\"text-align: right;\">      0.00341082</td><td style=\"text-align: right;\"> 0.652367  </td></tr>\n",
       "<tr><td>objective_b8050_00024</td><td>TERMINATED</td><td>127.0.0.1:71452</td><td style=\"text-align: right;\">1.61144   </td><td style=\"text-align: right;\">0.949677  </td><td style=\"text-align: right;\">     1</td><td style=\"text-align: right;\">      0.00327706</td><td style=\"text-align: right;\">-0.0368783 </td></tr>\n",
       "<tr><td>objective_b8050_00025</td><td>TERMINATED</td><td>127.0.0.1:71457</td><td style=\"text-align: right;\">0.0496819 </td><td style=\"text-align: right;\">0.213745  </td><td style=\"text-align: right;\">     1</td><td style=\"text-align: right;\">      0.00725675</td><td style=\"text-align: right;\"> 0.87162   </td></tr>\n",
       "<tr><td>objective_b8050_00026</td><td>TERMINATED</td><td>127.0.0.1:71458</td><td style=\"text-align: right;\">0.135634  </td><td style=\"text-align: right;\">0.086765  </td><td style=\"text-align: right;\">     1</td><td style=\"text-align: right;\">      0.00652909</td><td style=\"text-align: right;\"> 0.869048  </td></tr>\n",
       "<tr><td>objective_b8050_00027</td><td>TERMINATED</td><td>127.0.0.1:71458</td><td style=\"text-align: right;\">0.0541611 </td><td style=\"text-align: right;\">0.317436  </td><td style=\"text-align: right;\">     1</td><td style=\"text-align: right;\">      0.00396705</td><td style=\"text-align: right;\"> 0.868622  </td></tr>\n",
       "<tr><td>objective_b8050_00028</td><td>TERMINATED</td><td>127.0.0.1:71451</td><td style=\"text-align: right;\">0.467419  </td><td style=\"text-align: right;\">0.172506  </td><td style=\"text-align: right;\">     1</td><td style=\"text-align: right;\">      0.0036521 </td><td style=\"text-align: right;\"> 0.797469  </td></tr>\n",
       "<tr><td>objective_b8050_00029</td><td>TERMINATED</td><td>127.0.0.1:71451</td><td style=\"text-align: right;\">0.515891  </td><td style=\"text-align: right;\">0.954495  </td><td style=\"text-align: right;\">     1</td><td style=\"text-align: right;\">      0.00333381</td><td style=\"text-align: right;\"> 0.27322   </td></tr>\n",
       "<tr><td>objective_b8050_00030</td><td>TERMINATED</td><td>127.0.0.1:71452</td><td style=\"text-align: right;\">0.275718  </td><td style=\"text-align: right;\">0.486808  </td><td style=\"text-align: right;\">     1</td><td style=\"text-align: right;\">      0.004843  </td><td style=\"text-align: right;\"> 0.780464  </td></tr>\n",
       "<tr><td>objective_b8050_00031</td><td>TERMINATED</td><td>127.0.0.1:71449</td><td style=\"text-align: right;\">0.00108642</td><td style=\"text-align: right;\">0.659811  </td><td style=\"text-align: right;\">     1</td><td style=\"text-align: right;\">      0.00445223</td><td style=\"text-align: right;\"> 0.870435  </td></tr>\n",
       "<tr><td>objective_b8050_00032</td><td>TERMINATED</td><td>127.0.0.1:71452</td><td style=\"text-align: right;\">0.00905619</td><td style=\"text-align: right;\">0.0117822 </td><td style=\"text-align: right;\">     1</td><td style=\"text-align: right;\">      0.00510383</td><td style=\"text-align: right;\"> 0.872424  </td></tr>\n",
       "<tr><td>objective_b8050_00033</td><td>TERMINATED</td><td>127.0.0.1:71457</td><td style=\"text-align: right;\">0.0453246 </td><td style=\"text-align: right;\">0.382054  </td><td style=\"text-align: right;\">     1</td><td style=\"text-align: right;\">      0.00507808</td><td style=\"text-align: right;\"> 0.868636  </td></tr>\n",
       "<tr><td>objective_b8050_00034</td><td>TERMINATED</td><td>127.0.0.1:71456</td><td style=\"text-align: right;\">0.0297292 </td><td style=\"text-align: right;\">0.0543981 </td><td style=\"text-align: right;\">     1</td><td style=\"text-align: right;\">      0.00336218</td><td style=\"text-align: right;\"> 0.875289  </td></tr>\n",
       "<tr><td>objective_b8050_00035</td><td>TERMINATED</td><td>127.0.0.1:71454</td><td style=\"text-align: right;\">4.47306   </td><td style=\"text-align: right;\">0.9642    </td><td style=\"text-align: right;\">     1</td><td style=\"text-align: right;\">      0.00735116</td><td style=\"text-align: right;\">-0.0368783 </td></tr>\n",
       "<tr><td>objective_b8050_00036</td><td>TERMINATED</td><td>127.0.0.1:71456</td><td style=\"text-align: right;\">9.43023   </td><td style=\"text-align: right;\">0.332835  </td><td style=\"text-align: right;\">     1</td><td style=\"text-align: right;\">      0.00788403</td><td style=\"text-align: right;\">-0.0368783 </td></tr>\n",
       "<tr><td>objective_b8050_00037</td><td>TERMINATED</td><td>127.0.0.1:71458</td><td style=\"text-align: right;\">4.54882   </td><td style=\"text-align: right;\">0.47672   </td><td style=\"text-align: right;\">     1</td><td style=\"text-align: right;\">      0.00418687</td><td style=\"text-align: right;\">-0.0368783 </td></tr>\n",
       "<tr><td>objective_b8050_00038</td><td>TERMINATED</td><td>127.0.0.1:71454</td><td style=\"text-align: right;\">0.738474  </td><td style=\"text-align: right;\">0.130605  </td><td style=\"text-align: right;\">     1</td><td style=\"text-align: right;\">      0.00400496</td><td style=\"text-align: right;\"> 0.755891  </td></tr>\n",
       "<tr><td>objective_b8050_00039</td><td>TERMINATED</td><td>127.0.0.1:71453</td><td style=\"text-align: right;\">2.02384   </td><td style=\"text-align: right;\">0.322855  </td><td style=\"text-align: right;\">     1</td><td style=\"text-align: right;\">      0.00605011</td><td style=\"text-align: right;\">-0.0295147 </td></tr>\n",
       "<tr><td>objective_b8050_00040</td><td>TERMINATED</td><td>127.0.0.1:71453</td><td style=\"text-align: right;\">8.35206   </td><td style=\"text-align: right;\">0.679066  </td><td style=\"text-align: right;\">     1</td><td style=\"text-align: right;\">      0.00601387</td><td style=\"text-align: right;\">-0.0368783 </td></tr>\n",
       "<tr><td>objective_b8050_00041</td><td>TERMINATED</td><td>127.0.0.1:71452</td><td style=\"text-align: right;\">0.100001  </td><td style=\"text-align: right;\">0.182447  </td><td style=\"text-align: right;\">     1</td><td style=\"text-align: right;\">      0.00403786</td><td style=\"text-align: right;\"> 0.867207  </td></tr>\n",
       "<tr><td>objective_b8050_00042</td><td>TERMINATED</td><td>127.0.0.1:71456</td><td style=\"text-align: right;\">0.00143019</td><td style=\"text-align: right;\">0.597922  </td><td style=\"text-align: right;\">     1</td><td style=\"text-align: right;\">      0.00400805</td><td style=\"text-align: right;\"> 0.870591  </td></tr>\n",
       "<tr><td>objective_b8050_00043</td><td>TERMINATED</td><td>127.0.0.1:71449</td><td style=\"text-align: right;\">0.010415  </td><td style=\"text-align: right;\">0.0439844 </td><td style=\"text-align: right;\">     1</td><td style=\"text-align: right;\">      0.00479722</td><td style=\"text-align: right;\"> 0.872811  </td></tr>\n",
       "<tr><td>objective_b8050_00044</td><td>TERMINATED</td><td>127.0.0.1:71449</td><td style=\"text-align: right;\">0.00772232</td><td style=\"text-align: right;\">0.592145  </td><td style=\"text-align: right;\">     1</td><td style=\"text-align: right;\">      0.00350285</td><td style=\"text-align: right;\"> 0.872393  </td></tr>\n",
       "<tr><td>objective_b8050_00045</td><td>TERMINATED</td><td>127.0.0.1:71450</td><td style=\"text-align: right;\">0.00204947</td><td style=\"text-align: right;\">0.441102  </td><td style=\"text-align: right;\">     1</td><td style=\"text-align: right;\">      0.00577617</td><td style=\"text-align: right;\"> 0.870799  </td></tr>\n",
       "<tr><td>objective_b8050_00046</td><td>TERMINATED</td><td>127.0.0.1:71457</td><td style=\"text-align: right;\">0.954272  </td><td style=\"text-align: right;\">0.674167  </td><td style=\"text-align: right;\">     1</td><td style=\"text-align: right;\">      0.00655007</td><td style=\"text-align: right;\">-0.0141368 </td></tr>\n",
       "<tr><td>objective_b8050_00047</td><td>TERMINATED</td><td>127.0.0.1:71456</td><td style=\"text-align: right;\">2.18741   </td><td style=\"text-align: right;\">0.500557  </td><td style=\"text-align: right;\">     1</td><td style=\"text-align: right;\">      0.00583601</td><td style=\"text-align: right;\">-0.0368783 </td></tr>\n",
       "<tr><td>objective_b8050_00048</td><td>TERMINATED</td><td>127.0.0.1:71451</td><td style=\"text-align: right;\">7.72322   </td><td style=\"text-align: right;\">0.0857455 </td><td style=\"text-align: right;\">     1</td><td style=\"text-align: right;\">      0.00376797</td><td style=\"text-align: right;\">-0.0359455 </td></tr>\n",
       "<tr><td>objective_b8050_00049</td><td>TERMINATED</td><td>127.0.0.1:71450</td><td style=\"text-align: right;\">1.8301    </td><td style=\"text-align: right;\">0.367589  </td><td style=\"text-align: right;\">     1</td><td style=\"text-align: right;\">      0.0049181 </td><td style=\"text-align: right;\">-0.0361453 </td></tr>\n",
       "</tbody>\n",
       "</table>\n",
       "  </div>\n",
       "</div>\n",
       "<style>\n",
       ".tuneStatus {\n",
       "  color: var(--jp-ui-font-color1);\n",
       "}\n",
       ".tuneStatus .systemInfo {\n",
       "  display: flex;\n",
       "  flex-direction: column;\n",
       "}\n",
       ".tuneStatus td {\n",
       "  white-space: nowrap;\n",
       "}\n",
       ".tuneStatus .trialStatus {\n",
       "  display: flex;\n",
       "  flex-direction: column;\n",
       "}\n",
       ".tuneStatus h3 {\n",
       "  font-weight: bold;\n",
       "}\n",
       ".tuneStatus .hDivider {\n",
       "  border-bottom-width: var(--jp-border-width);\n",
       "  border-bottom-color: var(--jp-border-color0);\n",
       "  border-bottom-style: solid;\n",
       "}\n",
       ".tuneStatus .vDivider {\n",
       "  border-left-width: var(--jp-border-width);\n",
       "  border-left-color: var(--jp-border-color0);\n",
       "  border-left-style: solid;\n",
       "  margin: 0.5em 1em 0.5em 1em;\n",
       "}\n",
       "</style>\n"
      ],
      "text/plain": [
       "<IPython.core.display.HTML object>"
      ]
     },
     "metadata": {},
     "output_type": "display_data"
    },
    {
     "data": {
      "text/html": [
       "<div class=\"trialProgress\">\n",
       "  <h3>Trial Progress</h3>\n",
       "  <table>\n",
       "<thead>\n",
       "<tr><th>Trial name           </th><th style=\"text-align: right;\">   r2_score</th></tr>\n",
       "</thead>\n",
       "<tbody>\n",
       "<tr><td>objective_b8050_00000</td><td style=\"text-align: right;\"> 0.870223  </td></tr>\n",
       "<tr><td>objective_b8050_00001</td><td style=\"text-align: right;\"> 0.839826  </td></tr>\n",
       "<tr><td>objective_b8050_00002</td><td style=\"text-align: right;\"> 0.634392  </td></tr>\n",
       "<tr><td>objective_b8050_00003</td><td style=\"text-align: right;\"> 0.871651  </td></tr>\n",
       "<tr><td>objective_b8050_00004</td><td style=\"text-align: right;\"> 0.840103  </td></tr>\n",
       "<tr><td>objective_b8050_00005</td><td style=\"text-align: right;\"> 0.862316  </td></tr>\n",
       "<tr><td>objective_b8050_00006</td><td style=\"text-align: right;\"> 0.8676    </td></tr>\n",
       "<tr><td>objective_b8050_00007</td><td style=\"text-align: right;\"> 0.871926  </td></tr>\n",
       "<tr><td>objective_b8050_00008</td><td style=\"text-align: right;\"> 0.86867   </td></tr>\n",
       "<tr><td>objective_b8050_00009</td><td style=\"text-align: right;\"> 0.755848  </td></tr>\n",
       "<tr><td>objective_b8050_00010</td><td style=\"text-align: right;\"> 0.857363  </td></tr>\n",
       "<tr><td>objective_b8050_00011</td><td style=\"text-align: right;\">-0.0368783 </td></tr>\n",
       "<tr><td>objective_b8050_00012</td><td style=\"text-align: right;\"> 0.870923  </td></tr>\n",
       "<tr><td>objective_b8050_00013</td><td style=\"text-align: right;\">-0.0368783 </td></tr>\n",
       "<tr><td>objective_b8050_00014</td><td style=\"text-align: right;\"> 0.870211  </td></tr>\n",
       "<tr><td>objective_b8050_00015</td><td style=\"text-align: right;\">-0.0368783 </td></tr>\n",
       "<tr><td>objective_b8050_00016</td><td style=\"text-align: right;\">-0.0368783 </td></tr>\n",
       "<tr><td>objective_b8050_00017</td><td style=\"text-align: right;\"> 0.827976  </td></tr>\n",
       "<tr><td>objective_b8050_00018</td><td style=\"text-align: right;\"> 0.822335  </td></tr>\n",
       "<tr><td>objective_b8050_00019</td><td style=\"text-align: right;\"> 0.871269  </td></tr>\n",
       "<tr><td>objective_b8050_00020</td><td style=\"text-align: right;\">-0.00644211</td></tr>\n",
       "<tr><td>objective_b8050_00021</td><td style=\"text-align: right;\"> 0.655917  </td></tr>\n",
       "<tr><td>objective_b8050_00022</td><td style=\"text-align: right;\"> 0.873261  </td></tr>\n",
       "<tr><td>objective_b8050_00023</td><td style=\"text-align: right;\"> 0.652367  </td></tr>\n",
       "<tr><td>objective_b8050_00024</td><td style=\"text-align: right;\">-0.0368783 </td></tr>\n",
       "<tr><td>objective_b8050_00025</td><td style=\"text-align: right;\"> 0.87162   </td></tr>\n",
       "<tr><td>objective_b8050_00026</td><td style=\"text-align: right;\"> 0.869048  </td></tr>\n",
       "<tr><td>objective_b8050_00027</td><td style=\"text-align: right;\"> 0.868622  </td></tr>\n",
       "<tr><td>objective_b8050_00028</td><td style=\"text-align: right;\"> 0.797469  </td></tr>\n",
       "<tr><td>objective_b8050_00029</td><td style=\"text-align: right;\"> 0.27322   </td></tr>\n",
       "<tr><td>objective_b8050_00030</td><td style=\"text-align: right;\"> 0.780464  </td></tr>\n",
       "<tr><td>objective_b8050_00031</td><td style=\"text-align: right;\"> 0.870435  </td></tr>\n",
       "<tr><td>objective_b8050_00032</td><td style=\"text-align: right;\"> 0.872424  </td></tr>\n",
       "<tr><td>objective_b8050_00033</td><td style=\"text-align: right;\"> 0.868636  </td></tr>\n",
       "<tr><td>objective_b8050_00034</td><td style=\"text-align: right;\"> 0.875289  </td></tr>\n",
       "<tr><td>objective_b8050_00035</td><td style=\"text-align: right;\">-0.0368783 </td></tr>\n",
       "<tr><td>objective_b8050_00036</td><td style=\"text-align: right;\">-0.0368783 </td></tr>\n",
       "<tr><td>objective_b8050_00037</td><td style=\"text-align: right;\">-0.0368783 </td></tr>\n",
       "<tr><td>objective_b8050_00038</td><td style=\"text-align: right;\"> 0.755891  </td></tr>\n",
       "<tr><td>objective_b8050_00039</td><td style=\"text-align: right;\">-0.0295147 </td></tr>\n",
       "<tr><td>objective_b8050_00040</td><td style=\"text-align: right;\">-0.0368783 </td></tr>\n",
       "<tr><td>objective_b8050_00041</td><td style=\"text-align: right;\"> 0.867207  </td></tr>\n",
       "<tr><td>objective_b8050_00042</td><td style=\"text-align: right;\"> 0.870591  </td></tr>\n",
       "<tr><td>objective_b8050_00043</td><td style=\"text-align: right;\"> 0.872811  </td></tr>\n",
       "<tr><td>objective_b8050_00044</td><td style=\"text-align: right;\"> 0.872393  </td></tr>\n",
       "<tr><td>objective_b8050_00045</td><td style=\"text-align: right;\"> 0.870799  </td></tr>\n",
       "<tr><td>objective_b8050_00046</td><td style=\"text-align: right;\">-0.0141368 </td></tr>\n",
       "<tr><td>objective_b8050_00047</td><td style=\"text-align: right;\">-0.0368783 </td></tr>\n",
       "<tr><td>objective_b8050_00048</td><td style=\"text-align: right;\">-0.0359455 </td></tr>\n",
       "<tr><td>objective_b8050_00049</td><td style=\"text-align: right;\">-0.0361453 </td></tr>\n",
       "</tbody>\n",
       "</table>\n",
       "</div>\n",
       "<style>\n",
       ".trialProgress {\n",
       "  display: flex;\n",
       "  flex-direction: column;\n",
       "  color: var(--jp-ui-font-color1);\n",
       "}\n",
       ".trialProgress h3 {\n",
       "  font-weight: bold;\n",
       "}\n",
       ".trialProgress td {\n",
       "  white-space: nowrap;\n",
       "}\n",
       "</style>\n"
      ],
      "text/plain": [
       "<IPython.core.display.HTML object>"
      ]
     },
     "metadata": {},
     "output_type": "display_data"
    },
    {
     "name": "stderr",
     "output_type": "stream",
     "text": [
      "2025-02-02 13:15:47,423\tERROR worker.py:405 -- Unhandled error (suppress with 'RAY_IGNORE_UNHANDLED_ERRORS=1'): The worker died unexpectedly while executing this task. Check python-core-worker-*.log files for more information.\n",
      "2025-02-02 13:15:47,564\tINFO tune.py:1143 -- Total run time: 3.01 seconds (2.98 seconds for the tuning loop).\n"
     ]
    }
   ],
   "source": [
    "# 🚀 Step 4: Run Hyperparameter Tuning **Before Final Training**\n",
    "ray.init(ignore_reinit_error=True)  # Initialize Ray\n",
    "scheduler=ASHAScheduler()\n",
    "analysis = tune.run(\n",
    "    objective,  # Function to optimize\n",
    "    config=search_space,\n",
    "    metric=\"r2_score\",\n",
    "    mode=\"max\",  # Maximize R² score\n",
    "    num_samples=50,  # Number of trials\n",
    "    scheduler=scheduler\n",
    ")"
   ]
  },
  {
   "cell_type": "code",
   "execution_count": null,
   "metadata": {},
   "outputs": [
    {
     "name": "stdout",
     "output_type": "stream",
     "text": [
      "Best Hyperparameters Found: {'alpha': 0.02972918069245933, 'l1_ratio': 0.05439806050504137}\n",
      "Final Model R² Score: 0.8815\n"
     ]
    }
   ],
   "source": [
    "# Get the best hyperparameters\n",
    "best_params = analysis.best_config\n",
    "print(f\"Best Hyperparameters Found: {best_params}\")\n",
    "\n",
    "# 🚀 Step 5: Train Final Model with Best Hyperparameters\n",
    "best_model = ElasticNet(alpha=best_params[\"alpha\"], l1_ratio=best_params[\"l1_ratio\"], random_state=42)\n",
    "best_model.fit(X_train, y_train)\n",
    "\n",
    "# 🚀 Step 6: Evaluate Final Model\n",
    "final_score = best_model.score(X_test, y_test)\n",
    "print(f\"Final Model R² Score: {final_score:.4f}\")"
   ]
  }
 ],
 "metadata": {
  "kernelspec": {
   "display_name": "mlproj",
   "language": "python",
   "name": "python3"
  },
  "language_info": {
   "codemirror_mode": {
    "name": "ipython",
    "version": 3
   },
   "file_extension": ".py",
   "mimetype": "text/x-python",
   "name": "python",
   "nbconvert_exporter": "python",
   "pygments_lexer": "ipython3",
   "version": "3.8.20"
  },
  "orig_nbformat": 4
 },
 "nbformat": 4,
 "nbformat_minor": 2
}
